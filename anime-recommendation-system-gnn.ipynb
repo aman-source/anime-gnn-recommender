{
 "cells": [
  {
   "cell_type": "code",
   "execution_count": 32,
   "metadata": {
    "execution": {
     "iopub.execute_input": "2025-03-15T08:51:07.341000Z",
     "iopub.status.busy": "2025-03-15T08:51:07.340652Z",
     "iopub.status.idle": "2025-03-15T08:51:17.676448Z",
     "shell.execute_reply": "2025-03-15T08:51:17.675327Z",
     "shell.execute_reply.started": "2025-03-15T08:51:07.340970Z"
    },
    "trusted": true
   },
   "outputs": [],
   "source": [
    "from sentence_transformers import SentenceTransformer\n",
    "import networkx as nx\n",
    "import matplotlib.pyplot as plt\n",
    "from sklearn.metrics.pairwise import cosine_similarity\n",
    "import random\n",
    "import torch\n",
    "import torch.nn as nn\n",
    "from torch_geometric.utils import from_networkx\n",
    "import torch.nn.functional as F\n",
    "from torch_geometric.nn import GATConv\n",
    "from sklearn.decomposition import PCA\n",
    "from torch_geometric.loader import NeighborLoader\n",
    "import pandas as pd\n",
    "import numpy as np\n",
    "\n",
    "\n"
   ]
  },
  {
   "cell_type": "code",
   "execution_count": 33,
   "metadata": {
    "execution": {
     "iopub.execute_input": "2025-03-15T08:51:17.678971Z",
     "iopub.status.busy": "2025-03-15T08:51:17.678314Z",
     "iopub.status.idle": "2025-03-15T08:51:28.372243Z",
     "shell.execute_reply": "2025-03-15T08:51:28.371109Z",
     "shell.execute_reply.started": "2025-03-15T08:51:17.678940Z"
    },
    "trusted": true
   },
   "outputs": [],
   "source": [
    "rating_df = pd.read_csv('rating.csv')\n",
    "anime_df = pd.read_csv('anime.csv')"
   ]
  },
  {
   "cell_type": "code",
   "execution_count": 34,
   "metadata": {
    "execution": {
     "iopub.execute_input": "2025-03-15T08:51:28.373197Z",
     "iopub.status.busy": "2025-03-15T08:51:28.372957Z",
     "iopub.status.idle": "2025-03-15T08:51:28.386760Z",
     "shell.execute_reply": "2025-03-15T08:51:28.385558Z",
     "shell.execute_reply.started": "2025-03-15T08:51:28.373175Z"
    },
    "trusted": true
   },
   "outputs": [
    {
     "data": {
      "text/html": [
       "<div>\n",
       "<style scoped>\n",
       "    .dataframe tbody tr th:only-of-type {\n",
       "        vertical-align: middle;\n",
       "    }\n",
       "\n",
       "    .dataframe tbody tr th {\n",
       "        vertical-align: top;\n",
       "    }\n",
       "\n",
       "    .dataframe thead th {\n",
       "        text-align: right;\n",
       "    }\n",
       "</style>\n",
       "<table border=\"1\" class=\"dataframe\">\n",
       "  <thead>\n",
       "    <tr style=\"text-align: right;\">\n",
       "      <th></th>\n",
       "      <th>user_id</th>\n",
       "      <th>anime_id</th>\n",
       "      <th>rating</th>\n",
       "    </tr>\n",
       "  </thead>\n",
       "  <tbody>\n",
       "    <tr>\n",
       "      <th>0</th>\n",
       "      <td>1</td>\n",
       "      <td>20</td>\n",
       "      <td>-1</td>\n",
       "    </tr>\n",
       "    <tr>\n",
       "      <th>1</th>\n",
       "      <td>1</td>\n",
       "      <td>24</td>\n",
       "      <td>-1</td>\n",
       "    </tr>\n",
       "    <tr>\n",
       "      <th>2</th>\n",
       "      <td>1</td>\n",
       "      <td>79</td>\n",
       "      <td>-1</td>\n",
       "    </tr>\n",
       "    <tr>\n",
       "      <th>3</th>\n",
       "      <td>1</td>\n",
       "      <td>226</td>\n",
       "      <td>-1</td>\n",
       "    </tr>\n",
       "    <tr>\n",
       "      <th>4</th>\n",
       "      <td>1</td>\n",
       "      <td>241</td>\n",
       "      <td>-1</td>\n",
       "    </tr>\n",
       "  </tbody>\n",
       "</table>\n",
       "</div>"
      ],
      "text/plain": [
       "   user_id  anime_id  rating\n",
       "0        1        20      -1\n",
       "1        1        24      -1\n",
       "2        1        79      -1\n",
       "3        1       226      -1\n",
       "4        1       241      -1"
      ]
     },
     "execution_count": 34,
     "metadata": {},
     "output_type": "execute_result"
    }
   ],
   "source": [
    "rating_df.head()"
   ]
  },
  {
   "cell_type": "code",
   "execution_count": 35,
   "metadata": {
    "execution": {
     "iopub.execute_input": "2025-03-15T08:51:28.387807Z",
     "iopub.status.busy": "2025-03-15T08:51:28.387539Z",
     "iopub.status.idle": "2025-03-15T08:51:34.768693Z",
     "shell.execute_reply": "2025-03-15T08:51:34.767507Z",
     "shell.execute_reply.started": "2025-03-15T08:51:28.387784Z"
    },
    "trusted": true
   },
   "outputs": [
    {
     "data": {
      "text/html": [
       "<div>\n",
       "<style scoped>\n",
       "    .dataframe tbody tr th:only-of-type {\n",
       "        vertical-align: middle;\n",
       "    }\n",
       "\n",
       "    .dataframe tbody tr th {\n",
       "        vertical-align: top;\n",
       "    }\n",
       "\n",
       "    .dataframe thead th {\n",
       "        text-align: right;\n",
       "    }\n",
       "</style>\n",
       "<table border=\"1\" class=\"dataframe\">\n",
       "  <thead>\n",
       "    <tr style=\"text-align: right;\">\n",
       "      <th></th>\n",
       "      <th>anime_id</th>\n",
       "      <th>name</th>\n",
       "      <th>genre</th>\n",
       "      <th>type</th>\n",
       "      <th>episodes</th>\n",
       "      <th>rating</th>\n",
       "      <th>members</th>\n",
       "    </tr>\n",
       "  </thead>\n",
       "  <tbody>\n",
       "    <tr>\n",
       "      <th>0</th>\n",
       "      <td>32281</td>\n",
       "      <td>Kimi no Na wa.</td>\n",
       "      <td>Drama, Romance, School, Supernatural</td>\n",
       "      <td>Movie</td>\n",
       "      <td>1</td>\n",
       "      <td>9.37</td>\n",
       "      <td>200630</td>\n",
       "    </tr>\n",
       "    <tr>\n",
       "      <th>1</th>\n",
       "      <td>5114</td>\n",
       "      <td>Fullmetal Alchemist: Brotherhood</td>\n",
       "      <td>Action, Adventure, Drama, Fantasy, Magic, Mili...</td>\n",
       "      <td>TV</td>\n",
       "      <td>64</td>\n",
       "      <td>9.26</td>\n",
       "      <td>793665</td>\n",
       "    </tr>\n",
       "    <tr>\n",
       "      <th>2</th>\n",
       "      <td>28977</td>\n",
       "      <td>Gintama°</td>\n",
       "      <td>Action, Comedy, Historical, Parody, Samurai, S...</td>\n",
       "      <td>TV</td>\n",
       "      <td>51</td>\n",
       "      <td>9.25</td>\n",
       "      <td>114262</td>\n",
       "    </tr>\n",
       "    <tr>\n",
       "      <th>3</th>\n",
       "      <td>9253</td>\n",
       "      <td>Steins;Gate</td>\n",
       "      <td>Sci-Fi, Thriller</td>\n",
       "      <td>TV</td>\n",
       "      <td>24</td>\n",
       "      <td>9.17</td>\n",
       "      <td>673572</td>\n",
       "    </tr>\n",
       "    <tr>\n",
       "      <th>4</th>\n",
       "      <td>9969</td>\n",
       "      <td>Gintama&amp;#039;</td>\n",
       "      <td>Action, Comedy, Historical, Parody, Samurai, S...</td>\n",
       "      <td>TV</td>\n",
       "      <td>51</td>\n",
       "      <td>9.16</td>\n",
       "      <td>151266</td>\n",
       "    </tr>\n",
       "  </tbody>\n",
       "</table>\n",
       "</div>"
      ],
      "text/plain": [
       "   anime_id                              name  \\\n",
       "0     32281                    Kimi no Na wa.   \n",
       "1      5114  Fullmetal Alchemist: Brotherhood   \n",
       "2     28977                          Gintama°   \n",
       "3      9253                       Steins;Gate   \n",
       "4      9969                     Gintama&#039;   \n",
       "\n",
       "                                               genre   type episodes  rating  \\\n",
       "0               Drama, Romance, School, Supernatural  Movie        1    9.37   \n",
       "1  Action, Adventure, Drama, Fantasy, Magic, Mili...     TV       64    9.26   \n",
       "2  Action, Comedy, Historical, Parody, Samurai, S...     TV       51    9.25   \n",
       "3                                   Sci-Fi, Thriller     TV       24    9.17   \n",
       "4  Action, Comedy, Historical, Parody, Samurai, S...     TV       51    9.16   \n",
       "\n",
       "   members  \n",
       "0   200630  \n",
       "1   793665  \n",
       "2   114262  \n",
       "3   673572  \n",
       "4   151266  "
      ]
     },
     "execution_count": 35,
     "metadata": {},
     "output_type": "execute_result"
    }
   ],
   "source": [
    "anime_df.head()"
   ]
  },
  {
   "cell_type": "code",
   "execution_count": 36,
   "metadata": {
    "execution": {
     "iopub.execute_input": "2025-03-15T08:51:34.770745Z",
     "iopub.status.busy": "2025-03-15T08:51:34.769937Z",
     "iopub.status.idle": "2025-03-15T08:51:34.993037Z",
     "shell.execute_reply": "2025-03-15T08:51:34.991365Z",
     "shell.execute_reply.started": "2025-03-15T08:51:34.770711Z"
    },
    "trusted": true
   },
   "outputs": [
    {
     "data": {
      "text/plain": [
       "user_id     0\n",
       "anime_id    0\n",
       "rating      0\n",
       "dtype: int64"
      ]
     },
     "execution_count": 36,
     "metadata": {},
     "output_type": "execute_result"
    }
   ],
   "source": [
    "rating_df.isna().sum()"
   ]
  },
  {
   "cell_type": "code",
   "execution_count": 37,
   "metadata": {
    "execution": {
     "iopub.execute_input": "2025-03-15T08:51:34.994270Z",
     "iopub.status.busy": "2025-03-15T08:51:34.993989Z",
     "iopub.status.idle": "2025-03-15T08:51:35.118458Z",
     "shell.execute_reply": "2025-03-15T08:51:35.117412Z",
     "shell.execute_reply.started": "2025-03-15T08:51:34.994247Z"
    },
    "trusted": true
   },
   "outputs": [
    {
     "data": {
      "text/plain": [
       "anime_id      0\n",
       "name          0\n",
       "genre        62\n",
       "type         25\n",
       "episodes      0\n",
       "rating      230\n",
       "members       0\n",
       "dtype: int64"
      ]
     },
     "execution_count": 37,
     "metadata": {},
     "output_type": "execute_result"
    }
   ],
   "source": [
    "anime_df.isna().sum()"
   ]
  },
  {
   "cell_type": "code",
   "execution_count": 38,
   "metadata": {
    "execution": {
     "iopub.execute_input": "2025-03-15T08:51:35.119926Z",
     "iopub.status.busy": "2025-03-15T08:51:35.119620Z",
     "iopub.status.idle": "2025-03-15T08:51:35.262233Z",
     "shell.execute_reply": "2025-03-15T08:51:35.260959Z",
     "shell.execute_reply.started": "2025-03-15T08:51:35.119899Z"
    },
    "trusted": true
   },
   "outputs": [],
   "source": [
    "anime_rating_mean = anime_df['rating'].mean()\n",
    "anime_df['rating'] = anime_df['rating'].fillna(anime_rating_mean)"
   ]
  },
  {
   "cell_type": "code",
   "execution_count": 39,
   "metadata": {
    "execution": {
     "iopub.execute_input": "2025-03-15T08:51:35.263923Z",
     "iopub.status.busy": "2025-03-15T08:51:35.263358Z",
     "iopub.status.idle": "2025-03-15T08:51:35.411093Z",
     "shell.execute_reply": "2025-03-15T08:51:35.410101Z",
     "shell.execute_reply.started": "2025-03-15T08:51:35.263897Z"
    },
    "trusted": true
   },
   "outputs": [
    {
     "data": {
      "text/html": [
       "<div>\n",
       "<style scoped>\n",
       "    .dataframe tbody tr th:only-of-type {\n",
       "        vertical-align: middle;\n",
       "    }\n",
       "\n",
       "    .dataframe tbody tr th {\n",
       "        vertical-align: top;\n",
       "    }\n",
       "\n",
       "    .dataframe thead th {\n",
       "        text-align: right;\n",
       "    }\n",
       "</style>\n",
       "<table border=\"1\" class=\"dataframe\">\n",
       "  <thead>\n",
       "    <tr style=\"text-align: right;\">\n",
       "      <th></th>\n",
       "      <th>anime_id</th>\n",
       "      <th>name</th>\n",
       "      <th>genre</th>\n",
       "      <th>type</th>\n",
       "      <th>episodes</th>\n",
       "      <th>rating</th>\n",
       "      <th>members</th>\n",
       "    </tr>\n",
       "  </thead>\n",
       "  <tbody>\n",
       "    <tr>\n",
       "      <th>0</th>\n",
       "      <td>32281</td>\n",
       "      <td>Kimi no Na wa.</td>\n",
       "      <td>Drama, Romance, School, Supernatural</td>\n",
       "      <td>Movie</td>\n",
       "      <td>1</td>\n",
       "      <td>9.37</td>\n",
       "      <td>200630</td>\n",
       "    </tr>\n",
       "    <tr>\n",
       "      <th>1</th>\n",
       "      <td>5114</td>\n",
       "      <td>Fullmetal Alchemist: Brotherhood</td>\n",
       "      <td>Action, Adventure, Drama, Fantasy, Magic, Mili...</td>\n",
       "      <td>TV</td>\n",
       "      <td>64</td>\n",
       "      <td>9.26</td>\n",
       "      <td>793665</td>\n",
       "    </tr>\n",
       "    <tr>\n",
       "      <th>2</th>\n",
       "      <td>28977</td>\n",
       "      <td>Gintama°</td>\n",
       "      <td>Action, Comedy, Historical, Parody, Samurai, S...</td>\n",
       "      <td>TV</td>\n",
       "      <td>51</td>\n",
       "      <td>9.25</td>\n",
       "      <td>114262</td>\n",
       "    </tr>\n",
       "    <tr>\n",
       "      <th>3</th>\n",
       "      <td>9253</td>\n",
       "      <td>Steins;Gate</td>\n",
       "      <td>Sci-Fi, Thriller</td>\n",
       "      <td>TV</td>\n",
       "      <td>24</td>\n",
       "      <td>9.17</td>\n",
       "      <td>673572</td>\n",
       "    </tr>\n",
       "    <tr>\n",
       "      <th>4</th>\n",
       "      <td>9969</td>\n",
       "      <td>Gintama&amp;#039;</td>\n",
       "      <td>Action, Comedy, Historical, Parody, Samurai, S...</td>\n",
       "      <td>TV</td>\n",
       "      <td>51</td>\n",
       "      <td>9.16</td>\n",
       "      <td>151266</td>\n",
       "    </tr>\n",
       "    <tr>\n",
       "      <th>...</th>\n",
       "      <td>...</td>\n",
       "      <td>...</td>\n",
       "      <td>...</td>\n",
       "      <td>...</td>\n",
       "      <td>...</td>\n",
       "      <td>...</td>\n",
       "      <td>...</td>\n",
       "    </tr>\n",
       "    <tr>\n",
       "      <th>12289</th>\n",
       "      <td>9316</td>\n",
       "      <td>Toushindai My Lover: Minami tai Mecha-Minami</td>\n",
       "      <td>Hentai</td>\n",
       "      <td>OVA</td>\n",
       "      <td>1</td>\n",
       "      <td>4.15</td>\n",
       "      <td>211</td>\n",
       "    </tr>\n",
       "    <tr>\n",
       "      <th>12290</th>\n",
       "      <td>5543</td>\n",
       "      <td>Under World</td>\n",
       "      <td>Hentai</td>\n",
       "      <td>OVA</td>\n",
       "      <td>1</td>\n",
       "      <td>4.28</td>\n",
       "      <td>183</td>\n",
       "    </tr>\n",
       "    <tr>\n",
       "      <th>12291</th>\n",
       "      <td>5621</td>\n",
       "      <td>Violence Gekiga David no Hoshi</td>\n",
       "      <td>Hentai</td>\n",
       "      <td>OVA</td>\n",
       "      <td>4</td>\n",
       "      <td>4.88</td>\n",
       "      <td>219</td>\n",
       "    </tr>\n",
       "    <tr>\n",
       "      <th>12292</th>\n",
       "      <td>6133</td>\n",
       "      <td>Violence Gekiga Shin David no Hoshi: Inma Dens...</td>\n",
       "      <td>Hentai</td>\n",
       "      <td>OVA</td>\n",
       "      <td>1</td>\n",
       "      <td>4.98</td>\n",
       "      <td>175</td>\n",
       "    </tr>\n",
       "    <tr>\n",
       "      <th>12293</th>\n",
       "      <td>26081</td>\n",
       "      <td>Yasuji no Pornorama: Yacchimae!!</td>\n",
       "      <td>Hentai</td>\n",
       "      <td>Movie</td>\n",
       "      <td>1</td>\n",
       "      <td>5.46</td>\n",
       "      <td>142</td>\n",
       "    </tr>\n",
       "  </tbody>\n",
       "</table>\n",
       "<p>12210 rows × 7 columns</p>\n",
       "</div>"
      ],
      "text/plain": [
       "       anime_id                                               name  \\\n",
       "0         32281                                     Kimi no Na wa.   \n",
       "1          5114                   Fullmetal Alchemist: Brotherhood   \n",
       "2         28977                                           Gintama°   \n",
       "3          9253                                        Steins;Gate   \n",
       "4          9969                                      Gintama&#039;   \n",
       "...         ...                                                ...   \n",
       "12289      9316       Toushindai My Lover: Minami tai Mecha-Minami   \n",
       "12290      5543                                        Under World   \n",
       "12291      5621                     Violence Gekiga David no Hoshi   \n",
       "12292      6133  Violence Gekiga Shin David no Hoshi: Inma Dens...   \n",
       "12293     26081                   Yasuji no Pornorama: Yacchimae!!   \n",
       "\n",
       "                                                   genre   type episodes  \\\n",
       "0                   Drama, Romance, School, Supernatural  Movie        1   \n",
       "1      Action, Adventure, Drama, Fantasy, Magic, Mili...     TV       64   \n",
       "2      Action, Comedy, Historical, Parody, Samurai, S...     TV       51   \n",
       "3                                       Sci-Fi, Thriller     TV       24   \n",
       "4      Action, Comedy, Historical, Parody, Samurai, S...     TV       51   \n",
       "...                                                  ...    ...      ...   \n",
       "12289                                             Hentai    OVA        1   \n",
       "12290                                             Hentai    OVA        1   \n",
       "12291                                             Hentai    OVA        4   \n",
       "12292                                             Hentai    OVA        1   \n",
       "12293                                             Hentai  Movie        1   \n",
       "\n",
       "       rating  members  \n",
       "0        9.37   200630  \n",
       "1        9.26   793665  \n",
       "2        9.25   114262  \n",
       "3        9.17   673572  \n",
       "4        9.16   151266  \n",
       "...       ...      ...  \n",
       "12289    4.15      211  \n",
       "12290    4.28      183  \n",
       "12291    4.88      219  \n",
       "12292    4.98      175  \n",
       "12293    5.46      142  \n",
       "\n",
       "[12210 rows x 7 columns]"
      ]
     },
     "execution_count": 39,
     "metadata": {},
     "output_type": "execute_result"
    }
   ],
   "source": [
    "anime_df.dropna()\n"
   ]
  },
  {
   "cell_type": "code",
   "execution_count": 40,
   "metadata": {
    "execution": {
     "iopub.execute_input": "2025-03-15T08:51:35.412635Z",
     "iopub.status.busy": "2025-03-15T08:51:35.412370Z",
     "iopub.status.idle": "2025-03-15T08:51:36.329402Z",
     "shell.execute_reply": "2025-03-15T08:51:36.327902Z",
     "shell.execute_reply.started": "2025-03-15T08:51:35.412610Z"
    },
    "trusted": true
   },
   "outputs": [],
   "source": [
    "model = SentenceTransformer('all-MiniLM-L6-v2')"
   ]
  },
  {
   "cell_type": "code",
   "execution_count": 41,
   "metadata": {
    "execution": {
     "iopub.execute_input": "2025-03-15T08:51:36.330455Z",
     "iopub.status.busy": "2025-03-15T08:51:36.330191Z",
     "iopub.status.idle": "2025-03-15T08:51:47.321603Z",
     "shell.execute_reply": "2025-03-15T08:51:47.320445Z",
     "shell.execute_reply.started": "2025-03-15T08:51:36.330430Z"
    },
    "trusted": true
   },
   "outputs": [],
   "source": [
    "anime_df['genre'] = anime_df['genre'].fillna(\"Unknown\")\n",
    "anime_df['genre'] = anime_df['genre'].astype(str)  # Convert all values to string\n",
    "\n",
    "genre_embeddings = model.encode(anime_df['genre'].tolist(), convert_to_tensor=True)\n"
   ]
  },
  {
   "cell_type": "code",
   "execution_count": 42,
   "metadata": {},
   "outputs": [
    {
     "data": {
      "text/plain": [
       "tensor([[ 0.0279, -0.1049,  0.0457,  ..., -0.0214,  0.0039,  0.0108],\n",
       "        [ 0.0158, -0.0546, -0.0091,  ..., -0.0429, -0.0500,  0.0712],\n",
       "        [-0.0754, -0.1026, -0.0215,  ..., -0.0219,  0.0050,  0.0343],\n",
       "        ...,\n",
       "        [-0.0443, -0.0638,  0.0439,  ...,  0.0337,  0.0472, -0.0632],\n",
       "        [-0.0443, -0.0638,  0.0439,  ...,  0.0337,  0.0472, -0.0632],\n",
       "        [-0.0443, -0.0638,  0.0439,  ...,  0.0337,  0.0472, -0.0632]],\n",
       "       device='cuda:0')"
      ]
     },
     "execution_count": 42,
     "metadata": {},
     "output_type": "execute_result"
    }
   ],
   "source": [
    "genre_embeddings"
   ]
  },
  {
   "cell_type": "code",
   "execution_count": 43,
   "metadata": {
    "execution": {
     "iopub.execute_input": "2025-03-15T08:51:47.323683Z",
     "iopub.status.busy": "2025-03-15T08:51:47.323269Z",
     "iopub.status.idle": "2025-03-15T08:51:48.008198Z",
     "shell.execute_reply": "2025-03-15T08:51:48.007045Z",
     "shell.execute_reply.started": "2025-03-15T08:51:47.323610Z"
    },
    "trusted": true
   },
   "outputs": [
    {
     "data": {
      "text/html": [
       "<div>\n",
       "<style scoped>\n",
       "    .dataframe tbody tr th:only-of-type {\n",
       "        vertical-align: middle;\n",
       "    }\n",
       "\n",
       "    .dataframe tbody tr th {\n",
       "        vertical-align: top;\n",
       "    }\n",
       "\n",
       "    .dataframe thead th {\n",
       "        text-align: right;\n",
       "    }\n",
       "</style>\n",
       "<table border=\"1\" class=\"dataframe\">\n",
       "  <thead>\n",
       "    <tr style=\"text-align: right;\">\n",
       "      <th></th>\n",
       "      <th>anime_id</th>\n",
       "      <th>name</th>\n",
       "      <th>genre</th>\n",
       "      <th>type</th>\n",
       "      <th>episodes</th>\n",
       "      <th>rating</th>\n",
       "      <th>members</th>\n",
       "      <th>genre_embedding</th>\n",
       "    </tr>\n",
       "  </thead>\n",
       "  <tbody>\n",
       "    <tr>\n",
       "      <th>0</th>\n",
       "      <td>32281</td>\n",
       "      <td>Kimi no Na wa.</td>\n",
       "      <td>Drama, Romance, School, Supernatural</td>\n",
       "      <td>Movie</td>\n",
       "      <td>1</td>\n",
       "      <td>9.37</td>\n",
       "      <td>200630</td>\n",
       "      <td>[0.027858414, -0.10489936, 0.04573688, 0.05266...</td>\n",
       "    </tr>\n",
       "    <tr>\n",
       "      <th>1</th>\n",
       "      <td>5114</td>\n",
       "      <td>Fullmetal Alchemist: Brotherhood</td>\n",
       "      <td>Action, Adventure, Drama, Fantasy, Magic, Mili...</td>\n",
       "      <td>TV</td>\n",
       "      <td>64</td>\n",
       "      <td>9.26</td>\n",
       "      <td>793665</td>\n",
       "      <td>[0.01584947, -0.054560315, -0.009054665, -0.02...</td>\n",
       "    </tr>\n",
       "    <tr>\n",
       "      <th>2</th>\n",
       "      <td>28977</td>\n",
       "      <td>Gintama°</td>\n",
       "      <td>Action, Comedy, Historical, Parody, Samurai, S...</td>\n",
       "      <td>TV</td>\n",
       "      <td>51</td>\n",
       "      <td>9.25</td>\n",
       "      <td>114262</td>\n",
       "      <td>[-0.07539095, -0.10257964, -0.021513062, -0.03...</td>\n",
       "    </tr>\n",
       "    <tr>\n",
       "      <th>3</th>\n",
       "      <td>9253</td>\n",
       "      <td>Steins;Gate</td>\n",
       "      <td>Sci-Fi, Thriller</td>\n",
       "      <td>TV</td>\n",
       "      <td>24</td>\n",
       "      <td>9.17</td>\n",
       "      <td>673572</td>\n",
       "      <td>[-0.045288168, -0.009361077, -0.046599023, 0.0...</td>\n",
       "    </tr>\n",
       "    <tr>\n",
       "      <th>4</th>\n",
       "      <td>9969</td>\n",
       "      <td>Gintama&amp;#039;</td>\n",
       "      <td>Action, Comedy, Historical, Parody, Samurai, S...</td>\n",
       "      <td>TV</td>\n",
       "      <td>51</td>\n",
       "      <td>9.16</td>\n",
       "      <td>151266</td>\n",
       "      <td>[-0.07539095, -0.10257964, -0.021513062, -0.03...</td>\n",
       "    </tr>\n",
       "  </tbody>\n",
       "</table>\n",
       "</div>"
      ],
      "text/plain": [
       "   anime_id                              name  \\\n",
       "0     32281                    Kimi no Na wa.   \n",
       "1      5114  Fullmetal Alchemist: Brotherhood   \n",
       "2     28977                          Gintama°   \n",
       "3      9253                       Steins;Gate   \n",
       "4      9969                     Gintama&#039;   \n",
       "\n",
       "                                               genre   type episodes  rating  \\\n",
       "0               Drama, Romance, School, Supernatural  Movie        1    9.37   \n",
       "1  Action, Adventure, Drama, Fantasy, Magic, Mili...     TV       64    9.26   \n",
       "2  Action, Comedy, Historical, Parody, Samurai, S...     TV       51    9.25   \n",
       "3                                   Sci-Fi, Thriller     TV       24    9.17   \n",
       "4  Action, Comedy, Historical, Parody, Samurai, S...     TV       51    9.16   \n",
       "\n",
       "   members                                    genre_embedding  \n",
       "0   200630  [0.027858414, -0.10489936, 0.04573688, 0.05266...  \n",
       "1   793665  [0.01584947, -0.054560315, -0.009054665, -0.02...  \n",
       "2   114262  [-0.07539095, -0.10257964, -0.021513062, -0.03...  \n",
       "3   673572  [-0.045288168, -0.009361077, -0.046599023, 0.0...  \n",
       "4   151266  [-0.07539095, -0.10257964, -0.021513062, -0.03...  "
      ]
     },
     "execution_count": 43,
     "metadata": {},
     "output_type": "execute_result"
    }
   ],
   "source": [
    "anime_df['genre_embedding'] = list(genre_embeddings.cpu().numpy())  \n",
    "\n",
    "\n",
    "anime_df.head()"
   ]
  },
  {
   "cell_type": "code",
   "execution_count": 44,
   "metadata": {
    "execution": {
     "iopub.execute_input": "2025-03-15T08:51:48.009636Z",
     "iopub.status.busy": "2025-03-15T08:51:48.009190Z",
     "iopub.status.idle": "2025-03-15T08:51:59.954587Z",
     "shell.execute_reply": "2025-03-15T08:51:59.953391Z",
     "shell.execute_reply.started": "2025-03-15T08:51:48.009595Z"
    },
    "trusted": true
   },
   "outputs": [],
   "source": [
    "G = nx.Graph()\n",
    "\n",
    "user_ids = rating_df['user_id'].unique()\n",
    "G.add_nodes_from(user_ids,bipartite=0, type=\"user\")\n",
    "\n",
    "anime_ids = anime_df['anime_id'].unique()\n",
    "G.add_nodes_from(anime_ids,bipartite=1,type=\"anime\")\n",
    "\n",
    "\n",
    "\n"
   ]
  },
  {
   "cell_type": "code",
   "execution_count": 45,
   "metadata": {
    "execution": {
     "iopub.execute_input": "2025-03-15T08:51:59.955689Z",
     "iopub.status.busy": "2025-03-15T08:51:59.955455Z",
     "iopub.status.idle": "2025-03-15T08:52:24.125551Z",
     "shell.execute_reply": "2025-03-15T08:52:24.124664Z",
     "shell.execute_reply.started": "2025-03-15T08:51:59.955667Z"
    },
    "trusted": true
   },
   "outputs": [],
   "source": [
    "rating_np = rating_df[[\"user_id\", \"anime_id\", \"rating\"]].to_numpy()\n",
    "G.add_weighted_edges_from(rating_np)"
   ]
  },
  {
   "cell_type": "code",
   "execution_count": 46,
   "metadata": {
    "execution": {
     "iopub.execute_input": "2025-03-15T08:52:24.127196Z",
     "iopub.status.busy": "2025-03-15T08:52:24.126929Z",
     "iopub.status.idle": "2025-03-15T08:52:24.771498Z",
     "shell.execute_reply": "2025-03-15T08:52:24.770300Z",
     "shell.execute_reply.started": "2025-03-15T08:52:24.127171Z"
    },
    "trusted": true
   },
   "outputs": [
    {
     "name": "stdout",
     "output_type": "stream",
     "text": [
      "[[1.         0.63451874 0.51078176 ... 0.3399033  0.3399033  0.3399033 ]\n",
      " [0.63451874 1.0000002  0.73506415 ... 0.30226475 0.30226475 0.30226475]\n",
      " [0.51078176 0.73506415 1.0000001  ... 0.3466016  0.3466016  0.3466016 ]\n",
      " ...\n",
      " [0.3399033  0.30226475 0.3466016  ... 1.         1.         1.        ]\n",
      " [0.3399033  0.30226475 0.3466016  ... 1.         1.         1.        ]\n",
      " [0.3399033  0.30226475 0.3466016  ... 1.         1.         1.        ]]\n"
     ]
    }
   ],
   "source": [
    "anime_embeddings = np.vstack(anime_df[\"genre_embedding\"].values)\n",
    "\n",
    "similarity_matrix = cosine_similarity(anime_embeddings)\n",
    "\n",
    "print(similarity_matrix)"
   ]
  },
  {
   "cell_type": "code",
   "execution_count": 47,
   "metadata": {
    "execution": {
     "iopub.execute_input": "2025-03-15T08:52:24.772674Z",
     "iopub.status.busy": "2025-03-15T08:52:24.772411Z",
     "iopub.status.idle": "2025-03-15T08:52:30.025767Z",
     "shell.execute_reply": "2025-03-15T08:52:30.024466Z",
     "shell.execute_reply.started": "2025-03-15T08:52:24.772636Z"
    },
    "trusted": true
   },
   "outputs": [],
   "source": [
    "num_of_similar = 5\n",
    "similar_anime_edges = []\n",
    "\n",
    "for idx,anime_id in enumerate(anime_df['anime_id']):\n",
    "    similar_indices = np.argsort(similarity_matrix[idx][-num_of_similar-1:-1])\n",
    "\n",
    "    for sim_idx in similar_indices:\n",
    "        sim_anime_id = anime_df.iloc[sim_idx][\"anime_id\"]\n",
    "        similarity_score = similarity_matrix[idx, sim_idx]\n",
    "        similar_anime_edges.append((anime_id, sim_anime_id, similarity_score))"
   ]
  },
  {
   "cell_type": "code",
   "execution_count": 48,
   "metadata": {
    "execution": {
     "iopub.execute_input": "2025-03-15T08:52:30.027254Z",
     "iopub.status.busy": "2025-03-15T08:52:30.026868Z",
     "iopub.status.idle": "2025-03-15T08:52:30.834681Z",
     "shell.execute_reply": "2025-03-15T08:52:30.833683Z",
     "shell.execute_reply.started": "2025-03-15T08:52:30.027226Z"
    },
    "trusted": true
   },
   "outputs": [],
   "source": [
    "G.add_weighted_edges_from(similar_anime_edges)"
   ]
  },
  {
   "cell_type": "code",
   "execution_count": 49,
   "metadata": {
    "execution": {
     "iopub.execute_input": "2025-03-15T08:52:30.835990Z",
     "iopub.status.busy": "2025-03-15T08:52:30.835722Z",
     "iopub.status.idle": "2025-03-15T08:52:30.887619Z",
     "shell.execute_reply": "2025-03-15T08:52:30.886805Z",
     "shell.execute_reply.started": "2025-03-15T08:52:30.835965Z"
    },
    "trusted": true
   },
   "outputs": [
    {
     "name": "stdout",
     "output_type": "stream",
     "text": [
      "Total Nodes: 73515\n",
      "Total Edges: 7860573\n"
     ]
    }
   ],
   "source": [
    "print(f\"Total Nodes: {G.number_of_nodes()}\")\n",
    "print(f\"Total Edges: {G.number_of_edges()}\")\n"
   ]
  },
  {
   "cell_type": "code",
   "execution_count": 50,
   "metadata": {
    "execution": {
     "iopub.execute_input": "2025-03-15T08:52:30.889202Z",
     "iopub.status.busy": "2025-03-15T08:52:30.888913Z",
     "iopub.status.idle": "2025-03-15T08:52:31.499954Z",
     "shell.execute_reply": "2025-03-15T08:52:31.498964Z",
     "shell.execute_reply.started": "2025-03-15T08:52:30.889177Z"
    },
    "trusted": true
   },
   "outputs": [
    {
     "data": {
      "image/png": "[encoded data removed]",
      "text/plain": [
       "<Figure size 1200x800 with 1 Axes>"
      ]
     },
     "metadata": {},
     "output_type": "display_data"
    }
   ],
   "source": [
    "\n",
    "\n",
    "# Sample 300 random nodes \n",
    "sample_nodes = random.sample(list(G.nodes), 300)\n",
    "subG = G.subgraph(sample_nodes)\n",
    "\n",
    " # Red = Users, Blue = Anime\n",
    "node_colors = [\"red\" if G.nodes[n][\"bipartite\"] == 0 else \"blue\" for n in subG.nodes]\n",
    "\n",
    "# Define edge colors\n",
    "# Green edges → User → Anime (rating weight)\n",
    "# Orange edges → Anime → Anime (similarity)\n",
    "edge_colors = []\n",
    "for u, v, data in subG.edges(data=True):\n",
    "    \n",
    "    if G.nodes[u][\"bipartite\"] == 1 and G.nodes[v][\"bipartite\"] == 1:  \n",
    "        edge_colors.append(\"orange\")  # Anime-Anime similarity\n",
    "    else:\n",
    "        edge_colors.append(\"green\")\n",
    "\n",
    "# layout\n",
    "pos = nx.spring_layout(subG, seed=42)\n",
    "\n",
    "plt.figure(figsize=(12, 8))\n",
    "\n",
    "\n",
    "nx.draw_networkx_nodes(subG, pos, node_color=node_colors, node_size=300)\n",
    "\n",
    "nx.draw_networkx_edges(subG, pos, edge_color=edge_colors, alpha=0.6)\n",
    "\n",
    "\n",
    "plt.title(\"Hybrid  Recommendation Graph\")\n",
    "plt.show()\n"
   ]
  },
  {
   "cell_type": "code",
   "execution_count": 51,
   "metadata": {
    "execution": {
     "iopub.execute_input": "2025-03-15T08:52:31.500835Z",
     "iopub.status.busy": "2025-03-15T08:52:31.500612Z",
     "iopub.status.idle": "2025-03-15T08:57:56.434918Z",
     "shell.execute_reply": "2025-03-15T08:57:56.432987Z",
     "shell.execute_reply.started": "2025-03-15T08:52:31.500814Z"
    },
    "trusted": true
   },
   "outputs": [
    {
     "name": "stdout",
     "output_type": "stream",
     "text": [
      "Data(edge_index=[2, 15721048], bipartite=[73515], type=[73515], weight=[15721048], num_nodes=73515)\n"
     ]
    }
   ],
   "source": [
    "\n",
    "\n",
    "pytorch_graph = from_networkx(G)\n",
    "pytorch_graph = pytorch_graph\n",
    "print(pytorch_graph)"
   ]
  },
  {
   "cell_type": "code",
   "execution_count": null,
   "metadata": {
    "execution": {
     "iopub.execute_input": "2025-03-15T08:57:56.436596Z",
     "iopub.status.busy": "2025-03-15T08:57:56.436105Z",
     "iopub.status.idle": "2025-03-15T08:58:04.536045Z",
     "shell.execute_reply": "2025-03-15T08:58:04.535000Z",
     "shell.execute_reply.started": "2025-03-15T08:57:56.436541Z"
    },
    "trusted": true
   },
   "outputs": [],
   "source": [
    "pca = PCA(n_components=32)\n",
    "anime_embeddings = pca.fit_transform(np.vstack(anime_df[\"genre_embedding\"].values))\n",
    "\n",
    "num_nodes = pytorch_graph.num_nodes\n",
    "node_features = torch.rand((num_nodes, 32)) \n",
    "anime_node_indices = anime_df[\"anime_id\"].tolist()\n",
    "\n",
    "node_features[anime_node_indices] = torch.tensor(anime_embeddings, dtype=torch.float)\n",
    "pytorch_graph.x = node_features\n",
    "\n",
    "edge_weights = [data[\"weight\"] for _, _, data in G.edges(data=True)]\n",
    "# pytorch_graph.y = torch.tensor(edge_weights + edge_weights, dtype=torch.float)  \n"
   ]
  },
  {
   "cell_type": "code",
   "execution_count": null,
   "metadata": {
    "execution": {
     "iopub.execute_input": "2025-03-15T08:58:04.537039Z",
     "iopub.status.busy": "2025-03-15T08:58:04.536803Z",
     "iopub.status.idle": "2025-03-15T08:58:04.551560Z",
     "shell.execute_reply": "2025-03-15T08:58:04.550320Z",
     "shell.execute_reply.started": "2025-03-15T08:58:04.537018Z"
    },
    "trusted": true
   },
   "outputs": [],
   "source": [
    "\n",
    "edge_weights = edge_weights + edge_weights  # Duplicate for both directions\n",
    "\n",
    "\n",
    "num_edges = pytorch_graph.edge_index.shape[1]\n",
    "pytorch_graph.z = torch.tensor(edge_weights[:num_edges], dtype=torch.float)"
   ]
  },
  {
   "cell_type": "code",
   "execution_count": 54,
   "metadata": {
    "trusted": true
   },
   "outputs": [],
   "source": [
    "class GATModel(nn.Module):\n",
    "    def __init__(self,in_channels,hidden_channels,out_channels,heads=1):\n",
    "        super(GATModel,self).__init__()\n",
    "        self.conv1 = GATConv(in_channels,hidden_channels,heads,dropout=0.2)\n",
    "        self.conv2 = GATConv(heads*hidden_channels,out_channels,heads=1,dropout=0.2)\n",
    "\n",
    "    def forward(self, data):\n",
    "        x, edge_index = data.x, data.edge_index\n",
    "        x = self.conv1(x, edge_index)\n",
    "        x = F.elu(x)  # Activation \n",
    "        x = self.conv2(x, edge_index)\n",
    "        return x  "
   ]
  },
  {
   "cell_type": "code",
   "execution_count": null,
   "metadata": {
    "trusted": true
   },
   "outputs": [
    {
     "name": "stdout",
     "output_type": "stream",
     "text": [
      "Epoch 1, Loss: 43.761375427246094\n",
      "Epoch 2, Loss: 317.588623046875\n",
      "Epoch 3, Loss: 26.848283767700195\n",
      "Epoch 4, Loss: 44.72282409667969\n",
      "Epoch 5, Loss: 43.609378814697266\n",
      "Epoch 6, Loss: 38.600257873535156\n",
      "Epoch 7, Loss: 30.308979034423828\n",
      "Epoch 8, Loss: 20.18899917602539\n",
      "Epoch 9, Loss: 14.798711776733398\n",
      "Epoch 10, Loss: 24.554067611694336\n",
      "Epoch 11, Loss: 33.9140510559082\n",
      "Epoch 12, Loss: 24.191673278808594\n",
      "Epoch 13, Loss: 15.966459274291992\n",
      "Epoch 14, Loss: 15.947013854980469\n",
      "Epoch 15, Loss: 18.2996826171875\n",
      "Epoch 16, Loss: 19.37616539001465\n",
      "Epoch 17, Loss: 18.457256317138672\n",
      "Epoch 18, Loss: 16.308992385864258\n",
      "Epoch 19, Loss: 15.7739839553833\n",
      "Epoch 20, Loss: 18.61347198486328\n",
      "Epoch 21, Loss: 19.297607421875\n",
      "Epoch 22, Loss: 16.469886779785156\n",
      "Epoch 23, Loss: 15.200440406799316\n",
      "Epoch 24, Loss: 16.055147171020508\n",
      "Epoch 25, Loss: 16.881912231445312\n",
      "Epoch 26, Loss: 16.60541534423828\n",
      "Epoch 27, Loss: 15.595728874206543\n",
      "Epoch 28, Loss: 14.76240062713623\n",
      "Epoch 29, Loss: 14.892595291137695\n",
      "Epoch 30, Loss: 15.674022674560547\n",
      "Epoch 31, Loss: 15.781005859375\n",
      "Epoch 32, Loss: 15.059561729431152\n",
      "Epoch 33, Loss: 14.573081970214844\n",
      "Epoch 34, Loss: 14.733586311340332\n",
      "Epoch 35, Loss: 15.09677505493164\n",
      "Epoch 36, Loss: 15.152259826660156\n",
      "Epoch 37, Loss: 14.842108726501465\n",
      "Epoch 38, Loss: 14.510637283325195\n",
      "Epoch 39, Loss: 14.499524116516113\n",
      "Epoch 40, Loss: 14.75443172454834\n",
      "Epoch 41, Loss: 14.846390724182129\n",
      "Epoch 42, Loss: 14.62720012664795\n",
      "Epoch 43, Loss: 14.420235633850098\n",
      "Epoch 44, Loss: 14.435283660888672\n",
      "Epoch 45, Loss: 14.573211669921875\n",
      "Epoch 46, Loss: 14.611882209777832\n",
      "Epoch 47, Loss: 14.504207611083984\n",
      "Epoch 48, Loss: 14.371434211730957\n",
      "Epoch 49, Loss: 14.364954948425293\n",
      "Epoch 50, Loss: 14.455427169799805\n",
      "Epoch 51, Loss: 14.482330322265625\n",
      "Epoch 52, Loss: 14.395604133605957\n",
      "Epoch 53, Loss: 14.3193998336792\n",
      "Epoch 54, Loss: 14.328377723693848\n",
      "Epoch 55, Loss: 14.379420280456543\n",
      "Epoch 56, Loss: 14.381138801574707\n",
      "Epoch 57, Loss: 14.324867248535156\n",
      "Epoch 58, Loss: 14.281848907470703\n",
      "Epoch 59, Loss: 14.2943754196167\n",
      "Epoch 60, Loss: 14.324264526367188\n",
      "Epoch 61, Loss: 14.311304092407227\n",
      "Epoch 62, Loss: 14.270318031311035\n",
      "Epoch 63, Loss: 14.253214836120605\n",
      "Epoch 64, Loss: 14.268582344055176\n",
      "Epoch 65, Loss: 14.277761459350586\n",
      "Epoch 66, Loss: 14.262739181518555\n",
      "Epoch 67, Loss: 14.237312316894531\n",
      "Epoch 68, Loss: 14.233325958251953\n",
      "Epoch 69, Loss: 14.240553855895996\n",
      "Epoch 70, Loss: 14.24162769317627\n",
      "Epoch 71, Loss: 14.221410751342773\n",
      "Epoch 72, Loss: 14.209723472595215\n",
      "Epoch 73, Loss: 14.21384334564209\n",
      "Epoch 74, Loss: 14.215672492980957\n",
      "Epoch 75, Loss: 14.206509590148926\n",
      "Epoch 76, Loss: 14.194893836975098\n",
      "Epoch 77, Loss: 14.192021369934082\n",
      "Epoch 78, Loss: 14.192215919494629\n",
      "Epoch 79, Loss: 14.18946361541748\n",
      "Epoch 80, Loss: 14.180542945861816\n",
      "Epoch 81, Loss: 14.175644874572754\n",
      "Epoch 82, Loss: 14.177862167358398\n",
      "Epoch 83, Loss: 14.173286437988281\n",
      "Epoch 84, Loss: 14.167163848876953\n",
      "Epoch 85, Loss: 14.165478706359863\n",
      "Epoch 86, Loss: 14.163086891174316\n",
      "Epoch 87, Loss: 14.160517692565918\n",
      "Epoch 88, Loss: 14.157750129699707\n",
      "Epoch 89, Loss: 14.153206825256348\n",
      "Epoch 90, Loss: 14.148533821105957\n",
      "Epoch 91, Loss: 14.149799346923828\n",
      "Epoch 92, Loss: 14.144960403442383\n",
      "Epoch 93, Loss: 14.14060115814209\n",
      "Epoch 94, Loss: 14.139639854431152\n",
      "Epoch 95, Loss: 14.139808654785156\n",
      "Epoch 96, Loss: 14.137404441833496\n",
      "Epoch 97, Loss: 14.13271713256836\n",
      "Epoch 98, Loss: 14.130025863647461\n",
      "Epoch 99, Loss: 14.130725860595703\n",
      "Epoch 100, Loss: 14.126286506652832\n"
     ]
    }
   ],
   "source": [
    "import torch\n",
    "import torch.nn.functional as F\n",
    "\n",
    "model = GATModel(in_channels=32, hidden_channels=16, out_channels=8, heads=1)\n",
    "optimizer = torch.optim.Adam(model.parameters(), lr=0.05)\n",
    "\n",
    "\n",
    "for epoch in range(100):\n",
    "    optimizer.zero_grad()\n",
    "    out = model(pytorch_graph)  \n",
    "\n",
    "    src_nodes = pytorch_graph.edge_index[0]  # Users\n",
    "    dst_nodes = pytorch_graph.edge_index[1]  # Anime\n",
    "\n",
    "    user_embeddings = out[src_nodes] \n",
    "    anime_embeddings = out[dst_nodes] \n",
    "\n",
    "    predicted_ratings = (user_embeddings * anime_embeddings).sum(dim=1)  \n",
    "\n",
    "    loss = F.mse_loss(predicted_ratings, pytorch_graph.z)\n",
    "\n",
    "    loss.backward()\n",
    "    optimizer.step()\n",
    "\n",
    "    print(f\"Epoch {epoch+1}, Loss: {loss.item()}\")\n"
   ]
  },
  {
   "cell_type": "code",
   "execution_count": 60,
   "metadata": {
    "trusted": true
   },
   "outputs": [
    {
     "name": "stdout",
     "output_type": "stream",
     "text": [
      "Model saved successfully!\n"
     ]
    }
   ],
   "source": [
    "torch.save(model.state_dict(), \"gat_anime_recommendation.pth\")\n",
    "print(\"Model saved successfully!\")\n"
   ]
  },
  {
   "cell_type": "code",
   "execution_count": 66,
   "metadata": {},
   "outputs": [],
   "source": [
    "model.eval()  \n",
    "\n",
    "\n",
    "with torch.no_grad():\n",
    "    node_embeddings = model(pytorch_graph) \n",
    "    \n",
    "def get_watched_anime(user_id):\n",
    "    # Get all anime this user has watched (rated anything, including -1)\n",
    "    watched_anime = rating_df[rating_df[\"user_id\"] == user_id]\n",
    "\n",
    "    watched_list = [\n",
    "        (anime_df.loc[anime_df['anime_id'] == anime_id, 'name'].values[0], rating)\n",
    "        for anime_id, rating in zip(watched_anime[\"anime_id\"], watched_anime[\"rating\"])\n",
    "    ]\n",
    "\n",
    "    return watched_list\n",
    "\n",
    "\n",
    "def predict_rating(user_id, anime_id):\n",
    "    user_embedding = node_embeddings[user_id]  # Get user embedding\n",
    "    anime_embedding = node_embeddings[anime_id]  # Get anime embedding\n",
    "    \n",
    "    # (dot product)\n",
    "    predicted_rating = torch.dot(user_embedding, anime_embedding).item()\n",
    "    \n",
    "    return predicted_rating\n",
    "\n",
    "def recommend_anime(user_id, top_k=5):\n",
    "    anime_ids = anime_df[\"anime_id\"].tolist()  \n",
    "    recommendations = []\n",
    "\n",
    "    for anime_id in anime_ids:\n",
    "        rating = predict_rating(user_id, anime_id)\n",
    "        recommendations.append((anime_id, rating))\n",
    "\n",
    "    recommendations.sort(key=lambda x: x[1], reverse=True)\n",
    "\n",
    "    # Convert anime IDs to names\n",
    "    top_recommendations = [(anime_df.loc[anime_df['anime_id'] == anime_id, 'name'].values[0], rating)\n",
    "                           for anime_id, rating in recommendations[:top_k]]\n",
    "\n",
    "    return top_recommendations\n",
    "\n",
    "def recommend_anime_with_watched(user_id, top_k=5):\n",
    "    watched = get_watched_anime(user_id)  \n",
    "    recommendations = recommend_anime(user_id, top_k)  \n",
    "\n",
    "    print(f\"\\nUser {user_id} Watched These Anime:\")\n",
    "    for anime, rating in watched:\n",
    "        print(f\"- {anime} (Rated: {rating})\")\n",
    "\n",
    "    print(f\"\\nRecommended Anime for User {user_id}:\")\n",
    "    for anime, predicted_rating in recommendations:\n",
    "        print(f\"- {anime} (Predicted: {predicted_rating:.2f})\")\n",
    "\n",
    "    return recommendations\n",
    " \n"
   ]
  },
  {
   "cell_type": "code",
   "execution_count": 72,
   "metadata": {},
   "outputs": [
    {
     "name": "stdout",
     "output_type": "stream",
     "text": [
      "\n",
      "User 73510 Watched These Anime:\n",
      "- Ai Yori Aoshi (Rated: 8)\n",
      "- Final Approach (Rated: 7)\n",
      "- Futakoi (Rated: 7)\n",
      "- Green Green (Rated: 6)\n",
      "- Kimi ga Nozomu Eien (Rated: 8)\n",
      "- Maburaho (Rated: 7)\n",
      "- Onegai☆Teacher (Rated: 7)\n",
      "- Onegai☆Twins (Rated: 7)\n",
      "- Sen to Chihiro no Kamikakushi (Rated: -1)\n",
      "- Dragon Ball (Rated: 8)\n",
      "- Dragon Ball GT (Rated: 8)\n",
      "- Girls Bravo: First Season (Rated: 6)\n",
      "- Bakuten Shoot Beyblade (Rated: 6)\n",
      "- Iriya no Sora, UFO no Natsu (Rated: 7)\n",
      "- Ai Yori Aoshi: Enishi (Rated: 8)\n",
      "- Yu☆Gi☆Oh! Duel Monsters (Rated: 7)\n",
      "- Girls Bravo: Second Season (Rated: 6)\n",
      "- Tottoko Hamtarou (Rated: 5)\n",
      "- Tonari no Totoro (Rated: 7)\n",
      "- Pokemon (Rated: 7)\n",
      "- Pokemon: Mewtwo no Gyakushuu (Rated: 8)\n",
      "- Yu☆Gi☆Oh! (Rated: 6)\n",
      "- Digimon Adventure (Rated: 6)\n",
      "- Hotaru no Haka (Rated: 6)\n",
      "- I&#039;&#039;s Pure (Rated: 7)\n",
      "- Dragon Ball Z (Rated: 8)\n",
      "- Kyou no 5 no 2 (Rated: 6)\n",
      "- I&#039;&#039;s (Rated: 7)\n",
      "- Pokemon: Maboroshi no Pokemon Lugia Bakutan (Rated: 7)\n",
      "- Pokemon: Kesshoutou no Teiou Entei (Rated: 7)\n",
      "- Pokemon: Celebi Toki wo Koeta Deai (Rated: 6)\n",
      "- Pokemon: Mizu no Miyako no Mamorigami Latias to Latios (Rated: 7)\n",
      "- Pokemon Advanced Generation: Nanayo no Negaiboshi Jirachi (Rated: 6)\n",
      "- Pokemon Advanced Generation: Rekkuu no Houmonsha Deoxys (Rated: 7)\n",
      "- Medarot (Rated: 6)\n",
      "- Zero no Tsukaima (Rated: 8)\n",
      "- I&#039;&#039;s Pure Bonus (Rated: 7)\n",
      "- Digimon Adventure 02 (Rated: 6)\n",
      "- Pokemon Advanced Generation: Mew to Hadou no Yuusha Lucario (Rated: 7)\n",
      "- Pokemon: Senritsu no Mirage Pokemon (Rated: 7)\n",
      "- Kanon (2006) (Rated: 7)\n",
      "- Yoake Mae yori Ruriiro na: Crescent Love (Rated: 8)\n",
      "- Tokimeki Memorial: Only Love (Rated: 8)\n",
      "- Pokemon Advanced Generation (Rated: 6)\n",
      "- Pokemon Diamond &amp; Pearl (Rated: 7)\n",
      "- Gift: Eternal Rainbow (Rated: 7)\n",
      "- Pokemon: Mewtwo! Ware wa Koko ni Ari (Rated: 8)\n",
      "- Winter Garden (Rated: 7)\n",
      "- Zero no Tsukaima: Futatsuki no Kishi (Rated: 8)\n",
      "- Yu☆Gi☆Oh!: Hikari no Pyramid (Rated: 7)\n",
      "- Sola (Rated: 8)\n",
      "- True Tears (Rated: 7)\n",
      "- Clannad (Rated: 10)\n",
      "- Pokemon Advanced Generation: Pokemon Ranger to Umi no Ouji Manaphy (Rated: 6)\n",
      "- Pokemon Housoukyoku (Rated: 6)\n",
      "- School Days (Rated: 9)\n",
      "- Goshuushou-sama Ninomiya-kun (Rated: 7)\n",
      "- Chiisana Ahiru no Ooki na Ai no Monogatari: Ahiru no Kwak (Rated: 6)\n",
      "- Calimero (Rated: 5)\n",
      "- Pokemon Diamond &amp; Pearl: Dialga vs. Palkia vs. Darkrai (Rated: 7)\n",
      "- Kimikiss Pure Rouge (Rated: 8)\n",
      "- Rosario to Vampire (Rated: 8)\n",
      "- Sola Specials (Rated: 8)\n",
      "- Daisuki! Hello Kitty (Rated: 5)\n",
      "- Ai Yori Aoshi: Enishi - Miyuki (Rated: 7)\n",
      "- H2O: Footprints in the Sand (Rated: 8)\n",
      "- Kimi ga Nozomu Eien: Next Season (Rated: 8)\n",
      "- To LOVE-Ru (Rated: 7)\n",
      "- Nogizaka Haruka no Himitsu (Rated: 8)\n",
      "- Kanokon (Rated: 7)\n",
      "- Macross F (Rated: 8)\n",
      "- Zero no Tsukaima: Princesses no Rondo (Rated: 8)\n",
      "- Pokemon Diamond &amp; Pearl: Giratina to Sora no Hanataba Sheimi (Rated: 7)\n",
      "- Clannad: Mou Hitotsu no Sekai, Tomoyo-hen (Rated: 8)\n",
      "- Clannad: After Story (Rated: 10)\n",
      "- Kimikiss Pure Rouge Special (Rated: 6)\n",
      "- Rosario to Vampire Capu2 (Rated: 8)\n",
      "- Toradora! (Rated: 8)\n",
      "- Candy Boy: Nonchalant Talk of the Certain Twin Sisters in Daily Life (Rated: 6)\n",
      "- Akaneiro ni Somaru Saka (Rated: 7)\n",
      "- Asu no Yoichi! (Rated: 8)\n",
      "- Akikan! (Rated: 6)\n",
      "- Hatsukoi Limited (Rated: 8)\n",
      "- Inazuma Eleven (Rated: 8)\n",
      "- Bakugan Battle Brawlers: New Vestroia (Rated: 6)\n",
      "- Akaneiro ni Somaru Saka: Hardcore (Rated: 7)\n",
      "- Nogizaka Haruka no Himitsu: Purezza (Rated: 8)\n",
      "- Pokemon Diamond &amp; Pearl: Arceus Choukoku no Jikuu e (Rated: 7)\n",
      "- Princess Lover! (Rated: 8)\n",
      "- Kämpfer (Rated: 7)\n",
      "- Akikan!: Kan Ippatsu!? Onsen Panic (Rated: 6)\n",
      "- Omamori Himari (Rated: 8)\n",
      "- Baka to Test to Shoukanjuu (Rated: 8)\n",
      "- Clannad: After Story - Mou Hitotsu no Sekai, Kyou-hen (Rated: 8)\n",
      "- Pokemon: Slowking no Ichinichi (Rated: 6)\n",
      "- Seikon no Qwaser (Rated: 8)\n",
      "- Fate/stay night Movie: Unlimited Blade Works (Rated: 9)\n",
      "- Ichiban Ushiro no Daimaou (Rated: 8)\n",
      "- Ladies versus Butlers! (Rated: 8)\n",
      "- Mayoi Neko Overrun! (Rated: 7)\n",
      "- Nurarihyon no Mago (Rated: 7)\n",
      "- Giant Killing (Rated: 9)\n",
      "- Kämpfer Picture Drama (Rated: 6)\n",
      "- B Gata H Kei (Rated: 6)\n",
      "- Sora no Otoshimono: Project Pink (Rated: 7)\n",
      "- Hyakka Ryouran: Samurai Girls (Rated: 7)\n",
      "- Ladies versus Butlers! Specials (Rated: 6)\n",
      "- &quot;Bungaku Shoujo&quot; Memoire (Rated: 6)\n",
      "- Kami nomi zo Shiru Sekai (Rated: 7)\n",
      "- Amagami SS (Rated: 7)\n",
      "- Ore no Imouto ga Konnani Kawaii Wake ga Nai (Rated: 8)\n",
      "- Kore wa Zombie Desu ka? (Rated: 8)\n",
      "- Yosuga no Sora: In Solitude, Where We Are Least Alone. (Rated: 7)\n",
      "- To Heart 2 Adnext (Rated: 7)\n",
      "- Motto To LOVE-Ru (Rated: 6)\n",
      "- Fractale (Rated: 7)\n",
      "- Dragon Crisis! (Rated: 8)\n",
      "- Megane na Kanojo (Rated: 7)\n",
      "- Freezing (Rated: 7)\n",
      "- Itsuka Tenma no Kuro Usagi (Rated: 7)\n",
      "- Ao no Exorcist (Rated: 8)\n",
      "- Maken-Ki! (Rated: 7)\n",
      "- Ano Hi Mita Hana no Namae wo Bokutachi wa Mada Shiranai. (Rated: 8)\n",
      "- Nurarihyon no Mago: Sennen Makyou (Rated: 8)\n",
      "- Kämpfer für die Liebe (Rated: 7)\n",
      "- Hoshizora e Kakaru Hashi (Rated: 8)\n",
      "- Mayo Chiki! (Rated: 7)\n",
      "- Dog Days (Rated: 8)\n",
      "- Towa no Quon 1: Utakata no Kaben (Rated: 8)\n",
      "- Ben-To (Rated: 7)\n",
      "- Mashiro-iro Symphony: The Color of Lovers (Rated: 7)\n",
      "- R-15 (Rated: 7)\n",
      "- Boku wa Tomodachi ga Sukunai (Rated: 7)\n",
      "- Boku wa Tomodachi ga Sukunai Episode 0 (Rated: 6)\n",
      "- Papa no Iukoto wo Kikinasai! (Rated: 8)\n",
      "\n",
      "Recommended Anime for User 73510:\n",
      "- Mahou Shoujo Lyrical Nanoha A&#039;s (Predicted: 6.63)\n",
      "- Madang-Eul Naon Amtalg (Predicted: 6.57)\n",
      "- Haitai Nanafa (Predicted: 6.56)\n",
      "- Cowboy Bebop (Predicted: 6.52)\n",
      "- The Snack World (TV) (Predicted: 6.52)\n"
     ]
    },
    {
     "data": {
      "text/plain": [
       "[('Mahou Shoujo Lyrical Nanoha A&#039;s', 6.62615966796875),\n",
       " ('Madang-Eul Naon Amtalg', 6.565988540649414),\n",
       " ('Haitai Nanafa', 6.556926727294922),\n",
       " ('Cowboy Bebop', 6.52147102355957),\n",
       " ('The Snack World (TV)', 6.518858909606934)]"
      ]
     },
     "execution_count": 72,
     "metadata": {},
     "output_type": "execute_result"
    }
   ],
   "source": [
    "recommend_anime_with_watched(user_id=73510)\n"
   ]
  },
  {
   "cell_type": "code",
   "execution_count": null,
   "metadata": {},
   "outputs": [],
   "source": []
  }
 ],
 "metadata": {
  "kaggle": {
   "accelerator": "tpu1vmV38",
   "dataSources": [
    {
     "datasetId": 571,
     "sourceId": 1094,
     "sourceType": "datasetVersion"
    }
   ],
   "dockerImageVersionId": 30920,
   "isGpuEnabled": false,
   "isInternetEnabled": true,
   "language": "python",
   "sourceType": "notebook"
  },
  "kernelspec": {
   "display_name": "Python 3",
   "language": "python",
   "name": "python3"
  },
  "language_info": {
   "codemirror_mode": {
    "name": "ipython",
    "version": 3
   },
   "file_extension": ".py",
   "mimetype": "text/x-python",
   "name": "python",
   "nbconvert_exporter": "python",
   "pygments_lexer": "ipython3",
   "version": "3.12.3"
  }
 },
 "nbformat": 4,
 "nbformat_minor": 4
}
